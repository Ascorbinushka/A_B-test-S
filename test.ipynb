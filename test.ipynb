{
 "cells": [
  {
   "cell_type": "code",
   "id": "initial_id",
   "metadata": {
    "collapsed": true,
    "ExecuteTime": {
     "end_time": "2025-04-16T13:18:03.339468Z",
     "start_time": "2025-04-16T13:18:02.867022Z"
    }
   },
   "source": [
    "import pandas as pd\n",
    "df = pd.read_excel('marketpele_ab_test.xlsx')"
   ],
   "outputs": [],
   "execution_count": 2
  },
  {
   "metadata": {
    "ExecuteTime": {
     "end_time": "2025-04-16T13:18:14.694024Z",
     "start_time": "2025-04-16T13:18:14.664079Z"
    }
   },
   "cell_type": "code",
   "source": [
    "sess_df = df.groupby(['date','group_name'])['sessions'].sum().reset_index()\n",
    "display(sess_df.head())"
   ],
   "id": "2fa7ce44cc90ede7",
   "outputs": [
    {
     "data": {
      "text/plain": [
       "        date group_name  sessions\n",
       "0 2019-03-01          A    140626\n",
       "1 2019-03-01          B    140176\n",
       "2 2019-03-02          A    139401\n",
       "3 2019-03-02          B    139335\n",
       "4 2019-03-03          A    142512"
      ],
      "text/html": [
       "<div>\n",
       "<style scoped>\n",
       "    .dataframe tbody tr th:only-of-type {\n",
       "        vertical-align: middle;\n",
       "    }\n",
       "\n",
       "    .dataframe tbody tr th {\n",
       "        vertical-align: top;\n",
       "    }\n",
       "\n",
       "    .dataframe thead th {\n",
       "        text-align: right;\n",
       "    }\n",
       "</style>\n",
       "<table border=\"1\" class=\"dataframe\">\n",
       "  <thead>\n",
       "    <tr style=\"text-align: right;\">\n",
       "      <th></th>\n",
       "      <th>date</th>\n",
       "      <th>group_name</th>\n",
       "      <th>sessions</th>\n",
       "    </tr>\n",
       "  </thead>\n",
       "  <tbody>\n",
       "    <tr>\n",
       "      <th>0</th>\n",
       "      <td>2019-03-01</td>\n",
       "      <td>A</td>\n",
       "      <td>140626</td>\n",
       "    </tr>\n",
       "    <tr>\n",
       "      <th>1</th>\n",
       "      <td>2019-03-01</td>\n",
       "      <td>B</td>\n",
       "      <td>140176</td>\n",
       "    </tr>\n",
       "    <tr>\n",
       "      <th>2</th>\n",
       "      <td>2019-03-02</td>\n",
       "      <td>A</td>\n",
       "      <td>139401</td>\n",
       "    </tr>\n",
       "    <tr>\n",
       "      <th>3</th>\n",
       "      <td>2019-03-02</td>\n",
       "      <td>B</td>\n",
       "      <td>139335</td>\n",
       "    </tr>\n",
       "    <tr>\n",
       "      <th>4</th>\n",
       "      <td>2019-03-03</td>\n",
       "      <td>A</td>\n",
       "      <td>142512</td>\n",
       "    </tr>\n",
       "  </tbody>\n",
       "</table>\n",
       "</div>"
      ]
     },
     "metadata": {},
     "output_type": "display_data"
    }
   ],
   "execution_count": 4
  }
 ],
 "metadata": {
  "kernelspec": {
   "display_name": "Python 3",
   "language": "python",
   "name": "python3"
  },
  "language_info": {
   "codemirror_mode": {
    "name": "ipython",
    "version": 2
   },
   "file_extension": ".py",
   "mimetype": "text/x-python",
   "name": "python",
   "nbconvert_exporter": "python",
   "pygments_lexer": "ipython2",
   "version": "2.7.6"
  }
 },
 "nbformat": 4,
 "nbformat_minor": 5
}
