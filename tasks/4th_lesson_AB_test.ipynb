{
 "cells": [
  {
   "cell_type": "code",
   "id": "initial_id",
   "metadata": {
    "collapsed": true,
    "ExecuteTime": {
     "end_time": "2025-04-17T08:40:27.265624Z",
     "start_time": "2025-04-17T08:40:27.261232Z"
    }
   },
   "source": [
    "import pandas as pd\n",
    "import numpy as np\n",
    "from scipy import stats\n",
    "\n",
    "import hashlib\n",
    "\n",
    "import matplotlib.pyplot as plt\n",
    "import seaborn as sns"
   ],
   "outputs": [],
   "execution_count": 1
  },
  {
   "metadata": {
    "ExecuteTime": {
     "end_time": "2025-04-17T08:42:51.394986Z",
     "start_time": "2025-04-17T08:42:51.380978Z"
    }
   },
   "cell_type": "code",
   "source": [
    "# прочитаем данные\n",
    "path = 'AB_Test_revenue_only.csv'\n",
    "ab_df = pd.read_csv(path, sep=';')"
   ],
   "id": "ede5622aaad64a6c",
   "outputs": [],
   "execution_count": 7
  },
  {
   "metadata": {
    "ExecuteTime": {
     "end_time": "2025-04-17T08:42:53.130340Z",
     "start_time": "2025-04-17T08:42:53.114341Z"
    }
   },
   "cell_type": "code",
   "source": "ab_df.info()",
   "id": "a3a95b591f231e53",
   "outputs": [
    {
     "name": "stdout",
     "output_type": "stream",
     "text": [
      "<class 'pandas.core.frame.DataFrame'>\n",
      "RangeIndex: 10000 entries, 0 to 9999\n",
      "Data columns (total 3 columns):\n",
      " #   Column        Non-Null Count  Dtype  \n",
      "---  ------        --------------  -----  \n",
      " 0   user_id       10000 non-null  int64  \n",
      " 1   variant_name  10000 non-null  object \n",
      " 2   revenue       10000 non-null  float64\n",
      "dtypes: float64(1), int64(1), object(1)\n",
      "memory usage: 234.5+ KB\n"
     ]
    }
   ],
   "execution_count": 8
  },
  {
   "metadata": {
    "ExecuteTime": {
     "end_time": "2025-04-17T08:42:55.073086Z",
     "start_time": "2025-04-17T08:42:55.063036Z"
    }
   },
   "cell_type": "code",
   "source": "ab_df.head(3)",
   "id": "ee66fa7e80122911",
   "outputs": [
    {
     "data": {
      "text/plain": [
       "   user_id variant_name   revenue\n",
       "0     9468      control  8.528105\n",
       "1     9446      control  5.800314\n",
       "2     8872      control  6.957476"
      ],
      "text/html": [
       "<div>\n",
       "<style scoped>\n",
       "    .dataframe tbody tr th:only-of-type {\n",
       "        vertical-align: middle;\n",
       "    }\n",
       "\n",
       "    .dataframe tbody tr th {\n",
       "        vertical-align: top;\n",
       "    }\n",
       "\n",
       "    .dataframe thead th {\n",
       "        text-align: right;\n",
       "    }\n",
       "</style>\n",
       "<table border=\"1\" class=\"dataframe\">\n",
       "  <thead>\n",
       "    <tr style=\"text-align: right;\">\n",
       "      <th></th>\n",
       "      <th>user_id</th>\n",
       "      <th>variant_name</th>\n",
       "      <th>revenue</th>\n",
       "    </tr>\n",
       "  </thead>\n",
       "  <tbody>\n",
       "    <tr>\n",
       "      <th>0</th>\n",
       "      <td>9468</td>\n",
       "      <td>control</td>\n",
       "      <td>8.528105</td>\n",
       "    </tr>\n",
       "    <tr>\n",
       "      <th>1</th>\n",
       "      <td>9446</td>\n",
       "      <td>control</td>\n",
       "      <td>5.800314</td>\n",
       "    </tr>\n",
       "    <tr>\n",
       "      <th>2</th>\n",
       "      <td>8872</td>\n",
       "      <td>control</td>\n",
       "      <td>6.957476</td>\n",
       "    </tr>\n",
       "  </tbody>\n",
       "</table>\n",
       "</div>"
      ]
     },
     "execution_count": 9,
     "metadata": {},
     "output_type": "execute_result"
    }
   ],
   "execution_count": 9
  },
  {
   "metadata": {
    "ExecuteTime": {
     "end_time": "2025-04-17T08:56:03.315213Z",
     "start_time": "2025-04-17T08:56:03.305211Z"
    }
   },
   "cell_type": "code",
   "source": "ab_df['variant_name'].value_counts()",
   "id": "f08f2af4c8862159",
   "outputs": [
    {
     "data": {
      "text/plain": [
       "variant_name\n",
       "variant    5016\n",
       "control    4984\n",
       "Name: count, dtype: int64"
      ]
     },
     "execution_count": 11,
     "metadata": {},
     "output_type": "execute_result"
    }
   ],
   "execution_count": 11
  },
  {
   "metadata": {},
   "cell_type": "markdown",
   "source": "Сколько уникальных пользователей участвовало в эксперименте всего?",
   "id": "2c0b2aa49421df8c"
  },
  {
   "metadata": {
    "ExecuteTime": {
     "end_time": "2025-04-17T08:56:20.808070Z",
     "start_time": "2025-04-17T08:56:20.798801Z"
    }
   },
   "cell_type": "code",
   "source": "ab_df['user_id'].nunique()",
   "id": "43a17d73c657e799",
   "outputs": [
    {
     "data": {
      "text/plain": [
       "6324"
      ]
     },
     "execution_count": 12,
     "metadata": {},
     "output_type": "execute_result"
    }
   ],
   "execution_count": 12
  },
  {
   "metadata": {},
   "cell_type": "markdown",
   "source": "Есть ли в дата сете  пользователи, которые попали в обе группы?\n",
   "id": "c9cd20358ab5f49b"
  },
  {
   "metadata": {
    "ExecuteTime": {
     "end_time": "2025-04-17T08:59:02.393259Z",
     "start_time": "2025-04-17T08:59:02.377260Z"
    }
   },
   "cell_type": "code",
   "source": [
    "user_group_counts = ab_df.groupby('user_id')['variant_name'].nunique()\n",
    "users_in_multiple_groups = user_group_counts[user_group_counts > 1]\n",
    "len(users_in_multiple_groups)"
   ],
   "id": "df24c627ef9c9773",
   "outputs": [
    {
     "data": {
      "text/plain": [
       "1541"
      ]
     },
     "execution_count": 13,
     "metadata": {},
     "output_type": "execute_result"
    }
   ],
   "execution_count": 13
  },
  {
   "metadata": {
    "ExecuteTime": {
     "end_time": "2025-04-17T09:03:31.657903Z",
     "start_time": "2025-04-17T09:03:31.652497Z"
    }
   },
   "cell_type": "code",
   "source": "print(len(users_in_multiple_groups)/len(ab_df)*100)",
   "id": "8ae754a3a8882354",
   "outputs": [
    {
     "name": "stdout",
     "output_type": "stream",
     "text": [
      "15.409999999999998\n"
     ]
    }
   ],
   "execution_count": 21
  },
  {
   "metadata": {
    "ExecuteTime": {
     "end_time": "2025-04-17T09:03:05.987353Z",
     "start_time": "2025-04-17T09:03:05.981512Z"
    }
   },
   "cell_type": "code",
   "source": "len(ab_df)",
   "id": "b3517675926b461d",
   "outputs": [
    {
     "data": {
      "text/plain": [
       "10000"
      ]
     },
     "execution_count": 19,
     "metadata": {},
     "output_type": "execute_result"
    }
   ],
   "execution_count": 19
  },
  {
   "metadata": {
    "ExecuteTime": {
     "end_time": "2025-04-17T08:59:38.815570Z",
     "start_time": "2025-04-17T08:59:38.273264Z"
    }
   },
   "cell_type": "code",
   "source": [
    "# посмотрим на распределение метрики \n",
    "sns.set(rc={'figure.figsize':(12,8)})\n",
    "\n",
    "groups = sns.histplot(data = ab_df, \n",
    "              x='revenue', \n",
    "              hue='variant_name', \n",
    "              palette = ['r', 'y'],\n",
    "              alpha=0.5,\n",
    "              kde=False)\n",
    "plt.xlim(0, 25)  # настройка лимита для оси х\n",
    "\n",
    "plt.show()"
   ],
   "id": "cd48ddd87b415458",
   "outputs": [
    {
     "data": {
      "text/plain": [
       "<Figure size 1200x800 with 1 Axes>"
      ],
      "image/png": "[encoded data removed]"
     },
     "metadata": {},
     "output_type": "display_data"
    }
   ],
   "execution_count": 14
  },
  {
   "metadata": {
    "ExecuteTime": {
     "end_time": "2025-04-17T09:00:57.970317Z",
     "start_time": "2025-04-17T09:00:57.944314Z"
    }
   },
   "cell_type": "code",
   "source": [
    "# статистический тест на наличие различий в тестовых группах\n",
    "\n",
    "alpha = 0.05\n",
    "aa_p_value = stats.ttest_ind(ab_df[ab_df.variant_name == \"variant\"].revenue,\n",
    "                ab_df[ab_df.variant_name == \"control\"].revenue,\n",
    "                equal_var=False).pvalue\n",
    "print(aa_p_value)\n",
    "if aa_p_value > alpha:\n",
    "    print('Группы стат значимо не отличаются. Нельзя отвергнуть нулевую гипотезу.')\n",
    "else:\n",
    "    print('Отличие в группах статистически значимо. Отвергаем нулевую гипотезу в пользу альтернативной.')"
   ],
   "id": "4ee0b01646e1f609",
   "outputs": [
    {
     "name": "stdout",
     "output_type": "stream",
     "text": [
      "2.2382644305061823e-133\n",
      "Отличие в группах статистически значимо. Отвергаем нулевую гипотезу в пользу альтернативной.\n"
     ]
    }
   ],
   "execution_count": 16
  }
 ],
 "metadata": {
  "kernelspec": {
   "display_name": "Python 3",
   "language": "python",
   "name": "python3"
  },
  "language_info": {
   "codemirror_mode": {
    "name": "ipython",
    "version": 2
   },
   "file_extension": ".py",
   "mimetype": "text/x-python",
   "name": "python",
   "nbconvert_exporter": "python",
   "pygments_lexer": "ipython2",
   "version": "2.7.6"
  }
 },
 "nbformat": 4,
 "nbformat_minor": 5
}
