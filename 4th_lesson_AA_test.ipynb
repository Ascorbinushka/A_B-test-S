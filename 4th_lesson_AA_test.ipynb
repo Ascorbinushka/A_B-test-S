{
 "cells": [
  {
   "cell_type": "markdown",
   "id": "bd62650f",
   "metadata": {},
   "source": [
    "# A/A - test\n",
    "Посмотрим как метрика выручки распределена внутри группы control и проведем А/А тест для нее.\n",
    "\n",
    "А/А тест позволит определить, есть ли статистически значимые различия между двумя одинаковыми группами по среднему значению выручки, \"revenue\".\n",
    "\n",
    "Проведем статистический анализ с использованием А/А теста (или двухвыборочного t-теста) для двух групп (группа А1 и группа А2). А/А тест позволяет определить, есть ли статистически значимые различия между двумя одинаковыми группами по какому-либо параметру. В данном случае параметром является \"revenue\" (выручка от пользователя).\n",
    "\n",
    "для дополнительных экспериментов с двухвыборочным t-тестом, предлагаю посмотреть страничку на Evan Miller:\n",
    "https://www.evanmiller.org/ab-testing/t-test.html"
   ]
  },
  {
   "cell_type": "code",
   "id": "ddc68350",
   "metadata": {
    "ExecuteTime": {
     "end_time": "2025-04-17T08:35:17.791981Z",
     "start_time": "2025-04-17T08:35:17.787973Z"
    }
   },
   "source": [
    "import pandas as pd\n",
    "import numpy as np\n",
    "from scipy import stats\n",
    "\n",
    "import hashlib\n",
    "\n",
    "import matplotlib.pyplot as plt\n",
    "import seaborn as sns"
   ],
   "outputs": [],
   "execution_count": 1
  },
  {
   "cell_type": "code",
   "id": "3c7e1e66",
   "metadata": {
    "ExecuteTime": {
     "end_time": "2025-04-17T08:35:17.809495Z",
     "start_time": "2025-04-17T08:35:17.795129Z"
    }
   },
   "source": [
    "# прочитаем данные\n",
    "path = 'AAtest_data.csv'\n",
    "aa_df = pd.read_csv(path)"
   ],
   "outputs": [],
   "execution_count": 2
  },
  {
   "cell_type": "code",
   "id": "8928205e",
   "metadata": {
    "ExecuteTime": {
     "end_time": "2025-04-17T08:35:17.825920Z",
     "start_time": "2025-04-17T08:35:17.811510Z"
    }
   },
   "source": [
    "aa_df.info()"
   ],
   "outputs": [
    {
     "name": "stdout",
     "output_type": "stream",
     "text": [
      "<class 'pandas.core.frame.DataFrame'>\n",
      "RangeIndex: 3026 entries, 0 to 3025\n",
      "Data columns (total 4 columns):\n",
      " #   Column        Non-Null Count  Dtype  \n",
      "---  ------        --------------  -----  \n",
      " 0   user_id       3026 non-null   int64  \n",
      " 1   variant_name  3026 non-null   object \n",
      " 2   revenue       3026 non-null   float64\n",
      " 3   group         3026 non-null   object \n",
      "dtypes: float64(1), int64(1), object(2)\n",
      "memory usage: 94.7+ KB\n"
     ]
    }
   ],
   "execution_count": 3
  },
  {
   "cell_type": "code",
   "id": "d432b3d4",
   "metadata": {
    "ExecuteTime": {
     "end_time": "2025-04-17T08:35:17.850931Z",
     "start_time": "2025-04-17T08:35:17.828945Z"
    }
   },
   "source": [
    "aa_df.head(3)"
   ],
   "outputs": [
    {
     "data": {
      "text/plain": [
       "   user_id variant_name   revenue group\n",
       "0     9468      control  8.528105    A1\n",
       "1     3766      control  9.481786    A2\n",
       "2     1003      control  4.697286    A2"
      ],
      "text/html": [
       "<div>\n",
       "<style scoped>\n",
       "    .dataframe tbody tr th:only-of-type {\n",
       "        vertical-align: middle;\n",
       "    }\n",
       "\n",
       "    .dataframe tbody tr th {\n",
       "        vertical-align: top;\n",
       "    }\n",
       "\n",
       "    .dataframe thead th {\n",
       "        text-align: right;\n",
       "    }\n",
       "</style>\n",
       "<table border=\"1\" class=\"dataframe\">\n",
       "  <thead>\n",
       "    <tr style=\"text-align: right;\">\n",
       "      <th></th>\n",
       "      <th>user_id</th>\n",
       "      <th>variant_name</th>\n",
       "      <th>revenue</th>\n",
       "      <th>group</th>\n",
       "    </tr>\n",
       "  </thead>\n",
       "  <tbody>\n",
       "    <tr>\n",
       "      <th>0</th>\n",
       "      <td>9468</td>\n",
       "      <td>control</td>\n",
       "      <td>8.528105</td>\n",
       "      <td>A1</td>\n",
       "    </tr>\n",
       "    <tr>\n",
       "      <th>1</th>\n",
       "      <td>3766</td>\n",
       "      <td>control</td>\n",
       "      <td>9.481786</td>\n",
       "      <td>A2</td>\n",
       "    </tr>\n",
       "    <tr>\n",
       "      <th>2</th>\n",
       "      <td>1003</td>\n",
       "      <td>control</td>\n",
       "      <td>4.697286</td>\n",
       "      <td>A2</td>\n",
       "    </tr>\n",
       "  </tbody>\n",
       "</table>\n",
       "</div>"
      ]
     },
     "execution_count": 4,
     "metadata": {},
     "output_type": "execute_result"
    }
   ],
   "execution_count": 4
  },
  {
   "cell_type": "code",
   "id": "8b618ae3",
   "metadata": {
    "ExecuteTime": {
     "end_time": "2025-04-17T08:35:17.864463Z",
     "start_time": "2025-04-17T08:35:17.852996Z"
    }
   },
   "source": [
    "aa_df['group'].value_counts()"
   ],
   "outputs": [
    {
     "data": {
      "text/plain": [
       "group\n",
       "A2    1523\n",
       "A1    1503\n",
       "Name: count, dtype: int64"
      ]
     },
     "execution_count": 5,
     "metadata": {},
     "output_type": "execute_result"
    }
   ],
   "execution_count": 5
  },
  {
   "cell_type": "markdown",
   "id": "5e86aabb",
   "metadata": {},
   "source": [
    "Сколько уникальных пользователей участвовало в эксперименте всего?"
   ]
  },
  {
   "cell_type": "code",
   "id": "62c480e3",
   "metadata": {
    "ExecuteTime": {
     "end_time": "2025-04-17T08:35:17.874536Z",
     "start_time": "2025-04-17T08:35:17.866474Z"
    }
   },
   "source": [
    "aa_df['user_id'].nunique()"
   ],
   "outputs": [
    {
     "data": {
      "text/plain": [
       "2390"
      ]
     },
     "execution_count": 6,
     "metadata": {},
     "output_type": "execute_result"
    }
   ],
   "execution_count": 6
  },
  {
   "cell_type": "markdown",
   "id": "2219fcde",
   "metadata": {},
   "source": [
    "Есть ли в дата сете  пользователи, которые попали в обе группы?"
   ]
  },
  {
   "cell_type": "code",
   "id": "e712bfc1",
   "metadata": {
    "ExecuteTime": {
     "end_time": "2025-04-17T08:35:17.886828Z",
     "start_time": "2025-04-17T08:35:17.877548Z"
    }
   },
   "source": [
    "user_group_counts = aa_df.groupby('user_id')['group'].nunique()\n",
    "users_in_multiple_groups = user_group_counts[user_group_counts > 1]\n",
    "len(users_in_multiple_groups)"
   ],
   "outputs": [
    {
     "data": {
      "text/plain": [
       "0"
      ]
     },
     "execution_count": 7,
     "metadata": {},
     "output_type": "execute_result"
    }
   ],
   "execution_count": 7
  },
  {
   "cell_type": "markdown",
   "id": "8f39cd27",
   "metadata": {},
   "source": [
    "Отлично. Пересечений в группах нет. Система деления трафика сработала корректно!"
   ]
  },
  {
   "cell_type": "code",
   "id": "230efc1b",
   "metadata": {
    "ExecuteTime": {
     "end_time": "2025-04-17T08:35:18.207806Z",
     "start_time": "2025-04-17T08:35:17.888843Z"
    }
   },
   "source": [
    "# посмотрим на распределение метрики \n",
    "sns.set(rc={'figure.figsize':(12,8)})\n",
    "\n",
    "groups = sns.histplot(data = aa_df, \n",
    "              x='revenue', \n",
    "              hue='group', \n",
    "              palette = ['r', 'y'],\n",
    "              alpha=0.5,\n",
    "              kde=False)\n",
    "plt.xlim(0, 25)  # настройка лимита для оси х\n",
    "\n",
    "plt.show()"
   ],
   "outputs": [
    {
     "data": {
      "text/plain": [
       "<Figure size 1200x800 with 1 Axes>"
      ],
      "image/png": "[encoded data removed]"
     },
     "metadata": {},
     "output_type": "display_data"
    }
   ],
   "execution_count": 8
  },
  {
   "cell_type": "markdown",
   "id": "0740dede",
   "metadata": {},
   "source": [
    "Невооруженным взглядом отличия не видны на графике. Посмотрим, есть ли различия при помощи статистического теста."
   ]
  },
  {
   "cell_type": "code",
   "id": "fce44351",
   "metadata": {
    "ExecuteTime": {
     "end_time": "2025-04-17T08:36:18.650904Z",
     "start_time": "2025-04-17T08:36:18.635701Z"
    }
   },
   "source": [
    "# статистический тест на наличие различий в тестовых группах\n",
    "\n",
    "alpha = 0.05\n",
    "aa_p_value = stats.ttest_ind(aa_df[aa_df.group == \"A1\"].revenue,\n",
    "                aa_df[aa_df.group == \"A2\"].revenue,\n",
    "                equal_var=False).pvalue\n",
    "print(aa_p_value)\n",
    "if aa_p_value > alpha:\n",
    "    print('Группы стат значимо не отличаются. Нельзя отвергнуть нулевую гипотезу.')\n",
    "else:\n",
    "    print('Отличие в группах статистически значимо. Отвергаем нулевую гипотезу в пользу альтернативной.')"
   ],
   "outputs": [
    {
     "name": "stdout",
     "output_type": "stream",
     "text": [
      "0.4067667412535527\n",
      "Группы стат значимо не отличаются. Нельзя отвергнуть нулевую гипотезу.\n"
     ]
    }
   ],
   "execution_count": 10
  },
  {
   "cell_type": "markdown",
   "id": "cdb4d0d1",
   "metadata": {},
   "source": [
    "Отлично! Группы А1 и А2 стат значимо не отличаются. Данные в порядке: система сплитования сработала корректно, метрика пригодна и для А/В тестирования."
   ]
  }
 ],
 "metadata": {
  "kernelspec": {
   "display_name": "Python 3 (ipykernel)",
   "language": "python",
   "name": "python3"
  },
  "language_info": {
   "codemirror_mode": {
    "name": "ipython",
    "version": 3
   },
   "file_extension": ".py",
   "mimetype": "text/x-python",
   "name": "python",
   "nbconvert_exporter": "python",
   "pygments_lexer": "ipython3",
   "version": "3.8.16"
  }
 },
 "nbformat": 4,
 "nbformat_minor": 5
}
